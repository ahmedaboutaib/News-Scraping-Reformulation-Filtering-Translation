{
 "cells": [
  {
   "cell_type": "code",
   "execution_count": 10,
   "metadata": {},
   "outputs": [
    {
     "name": "stdout",
     "output_type": "stream",
     "text": [
      "Collecting selenium\n",
      "  Downloading selenium-4.22.0-py3-none-any.whl.metadata (7.0 kB)\n",
      "Requirement already satisfied: urllib3<3,>=1.26 in .\\venv\\lib\\site-packages (from urllib3[socks]<3,>=1.26->selenium) (2.2.2)\n",
      "Collecting trio~=0.17 (from selenium)\n",
      "  Downloading trio-0.26.0-py3-none-any.whl.metadata (8.8 kB)\n",
      "Collecting trio-websocket~=0.9 (from selenium)\n",
      "  Using cached trio_websocket-0.11.1-py3-none-any.whl.metadata (4.7 kB)\n",
      "Requirement already satisfied: certifi>=2021.10.8 in .\\venv\\lib\\site-packages (from selenium) (2024.7.4)\n",
      "Requirement already satisfied: typing_extensions>=4.9.0 in .\\venv\\lib\\site-packages (from selenium) (4.12.2)\n",
      "Collecting websocket-client>=1.8.0 (from selenium)\n",
      "  Downloading websocket_client-1.8.0-py3-none-any.whl.metadata (8.0 kB)\n",
      "Requirement already satisfied: attrs>=23.2.0 in .\\venv\\lib\\site-packages (from trio~=0.17->selenium) (23.2.0)\n",
      "Collecting sortedcontainers (from trio~=0.17->selenium)\n",
      "  Using cached sortedcontainers-2.4.0-py2.py3-none-any.whl.metadata (10 kB)\n",
      "Requirement already satisfied: idna in .\\venv\\lib\\site-packages (from trio~=0.17->selenium) (2.10)\n",
      "Collecting outcome (from trio~=0.17->selenium)\n",
      "  Using cached outcome-1.3.0.post0-py2.py3-none-any.whl.metadata (2.6 kB)\n",
      "Requirement already satisfied: sniffio>=1.3.0 in .\\venv\\lib\\site-packages (from trio~=0.17->selenium) (1.3.1)\n",
      "Collecting cffi>=1.14 (from trio~=0.17->selenium)\n",
      "  Using cached cffi-1.16.0-cp311-cp311-win_amd64.whl.metadata (1.5 kB)\n",
      "Collecting wsproto>=0.14 (from trio-websocket~=0.9->selenium)\n",
      "  Using cached wsproto-1.2.0-py3-none-any.whl.metadata (5.6 kB)\n",
      "Collecting pysocks!=1.5.7,<2.0,>=1.5.6 (from urllib3[socks]<3,>=1.26->selenium)\n",
      "  Using cached PySocks-1.7.1-py3-none-any.whl.metadata (13 kB)\n",
      "Collecting pycparser (from cffi>=1.14->trio~=0.17->selenium)\n",
      "  Using cached pycparser-2.22-py3-none-any.whl.metadata (943 bytes)\n",
      "Requirement already satisfied: h11<1,>=0.9.0 in .\\venv\\lib\\site-packages (from wsproto>=0.14->trio-websocket~=0.9->selenium) (0.9.0)\n",
      "Downloading selenium-4.22.0-py3-none-any.whl (9.4 MB)\n",
      "   ---------------------------------------- 0.0/9.4 MB ? eta -:--:--\n",
      "   ---------------------------------------- 0.1/9.4 MB 2.3 MB/s eta 0:00:05\n",
      "   - -------------------------------------- 0.3/9.4 MB 4.2 MB/s eta 0:00:03\n",
      "   --- ------------------------------------ 0.8/9.4 MB 7.7 MB/s eta 0:00:02\n",
      "   ----- ---------------------------------- 1.3/9.4 MB 8.2 MB/s eta 0:00:01\n",
      "   ------- -------------------------------- 1.9/9.4 MB 9.1 MB/s eta 0:00:01\n",
      "   ---------- ----------------------------- 2.4/9.4 MB 9.7 MB/s eta 0:00:01\n",
      "   ---------- ----------------------------- 2.5/9.4 MB 9.4 MB/s eta 0:00:01\n",
      "   ---------- ----------------------------- 2.5/9.4 MB 9.4 MB/s eta 0:00:01\n",
      "   ---------------- ----------------------- 3.9/9.4 MB 9.8 MB/s eta 0:00:01\n",
      "   ------------------ --------------------- 4.4/9.4 MB 10.1 MB/s eta 0:00:01\n",
      "   --------------------- ------------------ 5.0/9.4 MB 10.3 MB/s eta 0:00:01\n",
      "   ----------------------- ---------------- 5.4/9.4 MB 10.2 MB/s eta 0:00:01\n",
      "   ------------------------- -------------- 6.0/9.4 MB 10.3 MB/s eta 0:00:01\n",
      "   -------------------------- ------------- 6.1/9.4 MB 10.6 MB/s eta 0:00:01\n",
      "   ----------------------------- ---------- 7.0/9.4 MB 10.6 MB/s eta 0:00:01\n",
      "   -------------------------------- ------- 7.6/9.4 MB 10.8 MB/s eta 0:00:01\n",
      "   ---------------------------------- ----- 8.2/9.4 MB 10.9 MB/s eta 0:00:01\n",
      "   ------------------------------------ --- 8.6/9.4 MB 10.8 MB/s eta 0:00:01\n",
      "   -------------------------------------- - 9.2/9.4 MB 10.8 MB/s eta 0:00:01\n",
      "   ---------------------------------------  9.4/9.4 MB 11.0 MB/s eta 0:00:01\n",
      "   ---------------------------------------  9.4/9.4 MB 11.0 MB/s eta 0:00:01\n",
      "   ---------------------------------------- 9.4/9.4 MB 9.9 MB/s eta 0:00:00\n",
      "Downloading trio-0.26.0-py3-none-any.whl (475 kB)\n",
      "   ---------------------------------------- 0.0/475.7 kB ? eta -:--:--\n",
      "   --------------------------------------  471.0/475.7 kB 14.9 MB/s eta 0:00:01\n",
      "   ---------------------------------------- 475.7/475.7 kB 7.5 MB/s eta 0:00:00\n",
      "Using cached trio_websocket-0.11.1-py3-none-any.whl (17 kB)\n",
      "Downloading websocket_client-1.8.0-py3-none-any.whl (58 kB)\n",
      "   ---------------------------------------- 0.0/58.8 kB ? eta -:--:--\n",
      "   ---------------------------------------- 58.8/58.8 kB 3.0 MB/s eta 0:00:00\n",
      "Using cached cffi-1.16.0-cp311-cp311-win_amd64.whl (181 kB)\n",
      "Using cached PySocks-1.7.1-py3-none-any.whl (16 kB)\n",
      "Using cached wsproto-1.2.0-py3-none-any.whl (24 kB)\n",
      "Using cached outcome-1.3.0.post0-py2.py3-none-any.whl (10 kB)\n",
      "Using cached sortedcontainers-2.4.0-py2.py3-none-any.whl (29 kB)\n",
      "Using cached pycparser-2.22-py3-none-any.whl (117 kB)\n",
      "Installing collected packages: sortedcontainers, wsproto, websocket-client, pysocks, pycparser, outcome, cffi, trio, trio-websocket, selenium\n",
      "Successfully installed cffi-1.16.0 outcome-1.3.0.post0 pycparser-2.22 pysocks-1.7.1 selenium-4.22.0 sortedcontainers-2.4.0 trio-0.26.0 trio-websocket-0.11.1 websocket-client-1.8.0 wsproto-1.2.0\n"
     ]
    },
    {
     "name": "stderr",
     "output_type": "stream",
     "text": [
      "\n",
      "[notice] A new release of pip is available: 24.0 -> 24.1.1\n",
      "[notice] To update, run: python.exe -m pip install --upgrade pip\n"
     ]
    }
   ],
   "source": [
    "!pip install selenium"
   ]
  },
  {
   "cell_type": "code",
   "execution_count": 11,
   "metadata": {},
   "outputs": [
    {
     "name": "stdout",
     "output_type": "stream",
     "text": [
      "Requirement already satisfied: tqdm in .\\venv\\lib\\site-packages (4.66.4)\n",
      "Requirement already satisfied: colorama in .\\venv\\lib\\site-packages (from tqdm) (0.4.6)\n"
     ]
    },
    {
     "name": "stderr",
     "output_type": "stream",
     "text": [
      "\n",
      "[notice] A new release of pip is available: 24.0 -> 24.1.1\n",
      "[notice] To update, run: python.exe -m pip install --upgrade pip\n"
     ]
    }
   ],
   "source": [
    "!pip install tqdm"
   ]
  },
  {
   "cell_type": "code",
   "execution_count": 12,
   "metadata": {},
   "outputs": [
    {
     "name": "stderr",
     "output_type": "stream",
     "text": [
      "ERROR: Could not find a version that satisfies the requirement googledrive (from versions: none)\n",
      "ERROR: No matching distribution found for googledrive\n",
      "\n",
      "[notice] A new release of pip is available: 24.0 -> 24.1.1\n",
      "[notice] To update, run: python.exe -m pip install --upgrade pip\n"
     ]
    }
   ],
   "source": [
    "!pip install googledrive "
   ]
  },
  {
   "cell_type": "code",
   "execution_count": 13,
   "metadata": {},
   "outputs": [
    {
     "name": "stdout",
     "output_type": "stream",
     "text": [
      "Collecting pydrive\n",
      "  Using cached PyDrive-1.3.1-py3-none-any.whl\n",
      "Collecting google-api-python-client>=1.2 (from pydrive)\n",
      "  Downloading google_api_python_client-2.137.0-py2.py3-none-any.whl.metadata (6.7 kB)\n",
      "Collecting oauth2client>=4.0.0 (from pydrive)\n",
      "  Using cached oauth2client-4.1.3-py2.py3-none-any.whl.metadata (1.2 kB)\n",
      "Requirement already satisfied: PyYAML>=3.0 in .\\venv\\lib\\site-packages (from pydrive) (6.0.1)\n",
      "Collecting httplib2<1.dev0,>=0.19.0 (from google-api-python-client>=1.2->pydrive)\n",
      "  Using cached httplib2-0.22.0-py3-none-any.whl.metadata (2.6 kB)\n",
      "Collecting google-auth!=2.24.0,!=2.25.0,<3.0.0.dev0,>=1.32.0 (from google-api-python-client>=1.2->pydrive)\n",
      "  Downloading google_auth-2.32.0-py2.py3-none-any.whl.metadata (4.7 kB)\n",
      "Collecting google-auth-httplib2<1.0.0,>=0.2.0 (from google-api-python-client>=1.2->pydrive)\n",
      "  Using cached google_auth_httplib2-0.2.0-py2.py3-none-any.whl.metadata (2.2 kB)\n",
      "Collecting google-api-core!=2.0.*,!=2.1.*,!=2.2.*,!=2.3.0,<3.0.0.dev0,>=1.31.5 (from google-api-python-client>=1.2->pydrive)\n",
      "  Downloading google_api_core-2.19.1-py3-none-any.whl.metadata (2.7 kB)\n",
      "Collecting uritemplate<5,>=3.0.1 (from google-api-python-client>=1.2->pydrive)\n",
      "  Using cached uritemplate-4.1.1-py2.py3-none-any.whl.metadata (2.9 kB)\n",
      "Collecting pyasn1>=0.1.7 (from oauth2client>=4.0.0->pydrive)\n",
      "  Using cached pyasn1-0.6.0-py2.py3-none-any.whl.metadata (8.3 kB)\n",
      "Collecting pyasn1-modules>=0.0.5 (from oauth2client>=4.0.0->pydrive)\n",
      "  Using cached pyasn1_modules-0.4.0-py3-none-any.whl.metadata (3.4 kB)\n",
      "Collecting rsa>=3.1.4 (from oauth2client>=4.0.0->pydrive)\n",
      "  Using cached rsa-4.9-py3-none-any.whl.metadata (4.2 kB)\n",
      "Requirement already satisfied: six>=1.6.1 in .\\venv\\lib\\site-packages (from oauth2client>=4.0.0->pydrive) (1.16.0)\n",
      "Collecting googleapis-common-protos<2.0.dev0,>=1.56.2 (from google-api-core!=2.0.*,!=2.1.*,!=2.2.*,!=2.3.0,<3.0.0.dev0,>=1.31.5->google-api-python-client>=1.2->pydrive)\n",
      "  Downloading googleapis_common_protos-1.63.2-py2.py3-none-any.whl.metadata (1.5 kB)\n",
      "Requirement already satisfied: protobuf!=3.20.0,!=3.20.1,!=4.21.0,!=4.21.1,!=4.21.2,!=4.21.3,!=4.21.4,!=4.21.5,<6.0.0.dev0,>=3.19.5 in .\\venv\\lib\\site-packages (from google-api-core!=2.0.*,!=2.1.*,!=2.2.*,!=2.3.0,<3.0.0.dev0,>=1.31.5->google-api-python-client>=1.2->pydrive) (4.25.3)\n",
      "Collecting proto-plus<2.0.0dev,>=1.22.3 (from google-api-core!=2.0.*,!=2.1.*,!=2.2.*,!=2.3.0,<3.0.0.dev0,>=1.31.5->google-api-python-client>=1.2->pydrive)\n",
      "  Downloading proto_plus-1.24.0-py3-none-any.whl.metadata (2.2 kB)\n",
      "Requirement already satisfied: requests<3.0.0.dev0,>=2.18.0 in .\\venv\\lib\\site-packages (from google-api-core!=2.0.*,!=2.1.*,!=2.2.*,!=2.3.0,<3.0.0.dev0,>=1.31.5->google-api-python-client>=1.2->pydrive) (2.32.3)\n",
      "Collecting cachetools<6.0,>=2.0.0 (from google-auth!=2.24.0,!=2.25.0,<3.0.0.dev0,>=1.32.0->google-api-python-client>=1.2->pydrive)\n",
      "  Using cached cachetools-5.3.3-py3-none-any.whl.metadata (5.3 kB)\n",
      "Collecting pyparsing!=3.0.0,!=3.0.1,!=3.0.2,!=3.0.3,<4,>=2.4.2 (from httplib2<1.dev0,>=0.19.0->google-api-python-client>=1.2->pydrive)\n",
      "  Using cached pyparsing-3.1.2-py3-none-any.whl.metadata (5.1 kB)\n",
      "Requirement already satisfied: charset-normalizer<4,>=2 in .\\venv\\lib\\site-packages (from requests<3.0.0.dev0,>=2.18.0->google-api-core!=2.0.*,!=2.1.*,!=2.2.*,!=2.3.0,<3.0.0.dev0,>=1.31.5->google-api-python-client>=1.2->pydrive) (3.3.2)\n",
      "Requirement already satisfied: idna<4,>=2.5 in .\\venv\\lib\\site-packages (from requests<3.0.0.dev0,>=2.18.0->google-api-core!=2.0.*,!=2.1.*,!=2.2.*,!=2.3.0,<3.0.0.dev0,>=1.31.5->google-api-python-client>=1.2->pydrive) (2.10)\n",
      "Requirement already satisfied: urllib3<3,>=1.21.1 in .\\venv\\lib\\site-packages (from requests<3.0.0.dev0,>=2.18.0->google-api-core!=2.0.*,!=2.1.*,!=2.2.*,!=2.3.0,<3.0.0.dev0,>=1.31.5->google-api-python-client>=1.2->pydrive) (2.2.2)\n",
      "Requirement already satisfied: certifi>=2017.4.17 in .\\venv\\lib\\site-packages (from requests<3.0.0.dev0,>=2.18.0->google-api-core!=2.0.*,!=2.1.*,!=2.2.*,!=2.3.0,<3.0.0.dev0,>=1.31.5->google-api-python-client>=1.2->pydrive) (2024.7.4)\n",
      "Downloading google_api_python_client-2.137.0-py2.py3-none-any.whl (12.0 MB)\n",
      "   ---------------------------------------- 0.0/12.0 MB ? eta -:--:--\n",
      "   ---------------------------------------- 0.0/12.0 MB 991.0 kB/s eta 0:00:13\n",
      "   ---------------------------------------- 0.0/12.0 MB 991.0 kB/s eta 0:00:13\n",
      "   ---------------------------------------- 0.1/12.0 MB 1.2 MB/s eta 0:00:10\n",
      "    --------------------------------------- 0.2/12.0 MB 1.7 MB/s eta 0:00:08\n",
      "    --------------------------------------- 0.2/12.0 MB 1.7 MB/s eta 0:00:08\n",
      "    --------------------------------------- 0.2/12.0 MB 1.7 MB/s eta 0:00:08\n",
      "    --------------------------------------- 0.2/12.0 MB 1.7 MB/s eta 0:00:08\n",
      "    --------------------------------------- 0.2/12.0 MB 1.7 MB/s eta 0:00:08\n",
      "   - -------------------------------------- 0.4/12.0 MB 928.4 kB/s eta 0:00:13\n",
      "   - -------------------------------------- 0.4/12.0 MB 865.0 kB/s eta 0:00:14\n",
      "   - -------------------------------------- 0.5/12.0 MB 938.8 kB/s eta 0:00:13\n",
      "   -- ------------------------------------- 0.6/12.0 MB 1.2 MB/s eta 0:00:10\n",
      "   -- ------------------------------------- 0.6/12.0 MB 1.1 MB/s eta 0:00:11\n",
      "   -- ------------------------------------- 0.9/12.0 MB 1.5 MB/s eta 0:00:08\n",
      "   --- ------------------------------------ 1.0/12.0 MB 1.4 MB/s eta 0:00:08\n",
      "   --- ------------------------------------ 1.2/12.0 MB 1.8 MB/s eta 0:00:07\n",
      "   ---- ----------------------------------- 1.4/12.0 MB 1.9 MB/s eta 0:00:06\n",
      "   ----- ---------------------------------- 1.6/12.0 MB 2.1 MB/s eta 0:00:05\n",
      "   ------ --------------------------------- 2.0/12.0 MB 2.4 MB/s eta 0:00:05\n",
      "   --------- ------------------------------ 2.7/12.0 MB 3.1 MB/s eta 0:00:03\n",
      "   ---------- ----------------------------- 3.2/12.0 MB 3.5 MB/s eta 0:00:03\n",
      "   ------------ --------------------------- 3.7/12.0 MB 3.9 MB/s eta 0:00:03\n",
      "   ------------- -------------------------- 4.1/12.0 MB 4.1 MB/s eta 0:00:02\n",
      "   -------------- ------------------------- 4.4/12.0 MB 4.3 MB/s eta 0:00:02\n",
      "   ---------------- ----------------------- 4.9/12.0 MB 4.5 MB/s eta 0:00:02\n",
      "   ------------------ --------------------- 5.5/12.0 MB 5.0 MB/s eta 0:00:02\n",
      "   ------------------- -------------------- 5.9/12.0 MB 5.2 MB/s eta 0:00:02\n",
      "   --------------------- ------------------ 6.4/12.0 MB 5.4 MB/s eta 0:00:02\n",
      "   ---------------------- ----------------- 6.8/12.0 MB 5.6 MB/s eta 0:00:01\n",
      "   ----------------------- ---------------- 7.0/12.0 MB 5.5 MB/s eta 0:00:01\n",
      "   ------------------------ --------------- 7.5/12.0 MB 5.6 MB/s eta 0:00:01\n",
      "   -------------------------- ------------- 8.0/12.0 MB 5.9 MB/s eta 0:00:01\n",
      "   ---------------------------- ----------- 8.6/12.0 MB 6.0 MB/s eta 0:00:01\n",
      "   ----------------------------- ---------- 8.9/12.0 MB 6.1 MB/s eta 0:00:01\n",
      "   ------------------------------- -------- 9.5/12.0 MB 6.3 MB/s eta 0:00:01\n",
      "   --------------------------------- ------ 10.1/12.0 MB 6.4 MB/s eta 0:00:01\n",
      "   ---------------------------------- ----- 10.3/12.0 MB 6.6 MB/s eta 0:00:01\n",
      "   ----------------------------------- ---- 10.7/12.0 MB 8.6 MB/s eta 0:00:01\n",
      "   ------------------------------------- -- 11.1/12.0 MB 9.2 MB/s eta 0:00:01\n",
      "   -------------------------------------- - 11.6/12.0 MB 10.1 MB/s eta 0:00:01\n",
      "   ---------------------------------------  12.0/12.0 MB 10.7 MB/s eta 0:00:01\n",
      "   ---------------------------------------  12.0/12.0 MB 10.7 MB/s eta 0:00:01\n",
      "   ---------------------------------------- 12.0/12.0 MB 9.6 MB/s eta 0:00:00\n",
      "Using cached oauth2client-4.1.3-py2.py3-none-any.whl (98 kB)\n",
      "Downloading google_api_core-2.19.1-py3-none-any.whl (139 kB)\n",
      "   ---------------------------------------- 0.0/139.4 kB ? eta -:--:--\n",
      "   ---------------------------------------- 139.4/139.4 kB 4.2 MB/s eta 0:00:00\n",
      "Downloading google_auth-2.32.0-py2.py3-none-any.whl (195 kB)\n",
      "   ---------------------------------------- 0.0/195.5 kB ? eta -:--:--\n",
      "   ---------------------------------------- 195.5/195.5 kB 5.8 MB/s eta 0:00:00\n",
      "Using cached google_auth_httplib2-0.2.0-py2.py3-none-any.whl (9.3 kB)\n",
      "Using cached httplib2-0.22.0-py3-none-any.whl (96 kB)\n",
      "Using cached pyasn1-0.6.0-py2.py3-none-any.whl (85 kB)\n",
      "Using cached pyasn1_modules-0.4.0-py3-none-any.whl (181 kB)\n",
      "Using cached rsa-4.9-py3-none-any.whl (34 kB)\n",
      "Using cached uritemplate-4.1.1-py2.py3-none-any.whl (10 kB)\n",
      "Using cached cachetools-5.3.3-py3-none-any.whl (9.3 kB)\n",
      "Downloading googleapis_common_protos-1.63.2-py2.py3-none-any.whl (220 kB)\n",
      "   ---------------------------------------- 0.0/220.0 kB ? eta -:--:--\n",
      "   ---------------------------------------  215.0/220.0 kB 6.6 MB/s eta 0:00:01\n",
      "   ---------------------------------------- 220.0/220.0 kB 3.4 MB/s eta 0:00:00\n",
      "Downloading proto_plus-1.24.0-py3-none-any.whl (50 kB)\n",
      "   ---------------------------------------- 0.0/50.1 kB ? eta -:--:--\n",
      "   ---------------------------------------- 50.1/50.1 kB 1.2 MB/s eta 0:00:00\n",
      "Using cached pyparsing-3.1.2-py3-none-any.whl (103 kB)\n",
      "Installing collected packages: uritemplate, pyparsing, pyasn1, proto-plus, googleapis-common-protos, cachetools, rsa, pyasn1-modules, httplib2, oauth2client, google-auth, google-auth-httplib2, google-api-core, google-api-python-client, pydrive\n",
      "Successfully installed cachetools-5.3.3 google-api-core-2.19.1 google-api-python-client-2.137.0 google-auth-2.32.0 google-auth-httplib2-0.2.0 googleapis-common-protos-1.63.2 httplib2-0.22.0 oauth2client-4.1.3 proto-plus-1.24.0 pyasn1-0.6.0 pyasn1-modules-0.4.0 pydrive-1.3.1 pyparsing-3.1.2 rsa-4.9 uritemplate-4.1.1\n"
     ]
    },
    {
     "name": "stderr",
     "output_type": "stream",
     "text": [
      "\n",
      "[notice] A new release of pip is available: 24.0 -> 24.1.1\n",
      "[notice] To update, run: python.exe -m pip install --upgrade pip\n"
     ]
    }
   ],
   "source": [
    "!pip install pydrive"
   ]
  },
  {
   "cell_type": "code",
   "execution_count": 14,
   "metadata": {},
   "outputs": [
    {
     "name": "stdout",
     "output_type": "stream",
     "text": [
      "Collecting pendulum\n",
      "  Using cached pendulum-3.0.0-cp311-none-win_amd64.whl.metadata (7.0 kB)\n",
      "Requirement already satisfied: python-dateutil>=2.6 in .\\venv\\lib\\site-packages (from pendulum) (2.9.0.post0)\n",
      "Requirement already satisfied: tzdata>=2020.1 in .\\venv\\lib\\site-packages (from pendulum) (2024.1)\n",
      "Collecting time-machine>=2.6.0 (from pendulum)\n",
      "  Downloading time_machine-2.14.2-cp311-cp311-win_amd64.whl.metadata (21 kB)\n",
      "Requirement already satisfied: six>=1.5 in .\\venv\\lib\\site-packages (from python-dateutil>=2.6->pendulum) (1.16.0)\n",
      "Using cached pendulum-3.0.0-cp311-none-win_amd64.whl (293 kB)\n",
      "Downloading time_machine-2.14.2-cp311-cp311-win_amd64.whl (20 kB)\n",
      "Installing collected packages: time-machine, pendulum\n",
      "Successfully installed pendulum-3.0.0 time-machine-2.14.2\n"
     ]
    },
    {
     "name": "stderr",
     "output_type": "stream",
     "text": [
      "\n",
      "[notice] A new release of pip is available: 24.0 -> 24.1.1\n",
      "[notice] To update, run: python.exe -m pip install --upgrade pip\n"
     ]
    }
   ],
   "source": [
    "!pip install pendulum"
   ]
  },
  {
   "cell_type": "code",
   "execution_count": null,
   "metadata": {},
   "outputs": [],
   "source": []
  }
 ],
 "metadata": {
  "kernelspec": {
   "display_name": "Python 3",
   "language": "python",
   "name": "python3"
  },
  "language_info": {
   "codemirror_mode": {
    "name": "ipython",
    "version": 3
   },
   "file_extension": ".py",
   "mimetype": "text/x-python",
   "name": "python",
   "nbconvert_exporter": "python",
   "pygments_lexer": "ipython3",
   "version": "3.11.8"
  }
 },
 "nbformat": 4,
 "nbformat_minor": 2
}
